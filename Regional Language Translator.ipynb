{
 "cells": [
  {
   "cell_type": "code",
   "execution_count": 1,
   "id": "cdea6207",
   "metadata": {},
   "outputs": [
    {
     "name": "stdout",
     "output_type": "stream",
     "text": [
      "Requirement already satisfied: playsound==1.2.2 in c:\\users\\minal\\anaconda3\\lib\\site-packages (1.2.2)\n"
     ]
    },
    {
     "name": "stderr",
     "output_type": "stream",
     "text": [
      "WARNING: Ignoring invalid distribution -laysound (c:\\users\\minal\\anaconda3\\lib\\site-packages)\n",
      "WARNING: Ignoring invalid distribution -laysound (c:\\users\\minal\\anaconda3\\lib\\site-packages)\n",
      "WARNING: Ignoring invalid distribution -laysound (c:\\users\\minal\\anaconda3\\lib\\site-packages)\n",
      "WARNING: Ignoring invalid distribution -laysound (c:\\users\\minal\\anaconda3\\lib\\site-packages)\n",
      "WARNING: Ignoring invalid distribution -laysound (c:\\users\\minal\\anaconda3\\lib\\site-packages)\n",
      "WARNING: Ignoring invalid distribution -laysound (c:\\users\\minal\\anaconda3\\lib\\site-packages)\n"
     ]
    },
    {
     "name": "stdout",
     "output_type": "stream",
     "text": [
      "Requirement already satisfied: SpeechRecognition in c:\\users\\minal\\anaconda3\\lib\\site-packages (3.9.0)\n",
      "Requirement already satisfied: requests>=2.26.0 in c:\\users\\minal\\anaconda3\\lib\\site-packages (from SpeechRecognition) (2.28.1)\n",
      "Requirement already satisfied: charset-normalizer<3,>=2 in c:\\users\\minal\\anaconda3\\lib\\site-packages (from requests>=2.26.0->SpeechRecognition) (2.0.4)\n",
      "Requirement already satisfied: certifi>=2017.4.17 in c:\\users\\minal\\anaconda3\\lib\\site-packages (from requests>=2.26.0->SpeechRecognition) (2021.10.8)\n",
      "Requirement already satisfied: urllib3<1.27,>=1.21.1 in c:\\users\\minal\\anaconda3\\lib\\site-packages (from requests>=2.26.0->SpeechRecognition) (1.26.7)\n",
      "Requirement already satisfied: idna<4,>=2.5 in c:\\users\\minal\\anaconda3\\lib\\site-packages (from requests>=2.26.0->SpeechRecognition) (2.10)\n"
     ]
    },
    {
     "name": "stderr",
     "output_type": "stream",
     "text": [
      "WARNING: Ignoring invalid distribution -laysound (c:\\users\\minal\\anaconda3\\lib\\site-packages)\n",
      "WARNING: Ignoring invalid distribution -laysound (c:\\users\\minal\\anaconda3\\lib\\site-packages)\n",
      "WARNING: Ignoring invalid distribution -laysound (c:\\users\\minal\\anaconda3\\lib\\site-packages)\n",
      "WARNING: Ignoring invalid distribution -laysound (c:\\users\\minal\\anaconda3\\lib\\site-packages)\n",
      "WARNING: Ignoring invalid distribution -laysound (c:\\users\\minal\\anaconda3\\lib\\site-packages)\n",
      "WARNING: Ignoring invalid distribution -laysound (c:\\users\\minal\\anaconda3\\lib\\site-packages)\n"
     ]
    },
    {
     "name": "stdout",
     "output_type": "stream",
     "text": [
      "Requirement already satisfied: gTTS in c:\\users\\minal\\anaconda3\\lib\\site-packages (2.3.0)\n",
      "Requirement already satisfied: six~=1.16.0 in c:\\users\\minal\\anaconda3\\lib\\site-packages (from gTTS) (1.16.0)\n",
      "Requirement already satisfied: click~=8.1.3 in c:\\users\\minal\\anaconda3\\lib\\site-packages (from gTTS) (8.1.3)\n",
      "Requirement already satisfied: requests~=2.28.0 in c:\\users\\minal\\anaconda3\\lib\\site-packages (from gTTS) (2.28.1)\n",
      "Requirement already satisfied: colorama in c:\\users\\minal\\anaconda3\\lib\\site-packages (from click~=8.1.3->gTTS) (0.4.4)\n",
      "Requirement already satisfied: idna<4,>=2.5 in c:\\users\\minal\\anaconda3\\lib\\site-packages (from requests~=2.28.0->gTTS) (2.10)\n",
      "Requirement already satisfied: certifi>=2017.4.17 in c:\\users\\minal\\anaconda3\\lib\\site-packages (from requests~=2.28.0->gTTS) (2021.10.8)\n",
      "Requirement already satisfied: urllib3<1.27,>=1.21.1 in c:\\users\\minal\\anaconda3\\lib\\site-packages (from requests~=2.28.0->gTTS) (1.26.7)\n",
      "Requirement already satisfied: charset-normalizer<3,>=2 in c:\\users\\minal\\anaconda3\\lib\\site-packages (from requests~=2.28.0->gTTS) (2.0.4)\n"
     ]
    },
    {
     "name": "stderr",
     "output_type": "stream",
     "text": [
      "WARNING: Ignoring invalid distribution -laysound (c:\\users\\minal\\anaconda3\\lib\\site-packages)\n",
      "WARNING: Ignoring invalid distribution -laysound (c:\\users\\minal\\anaconda3\\lib\\site-packages)\n",
      "WARNING: Ignoring invalid distribution -laysound (c:\\users\\minal\\anaconda3\\lib\\site-packages)\n",
      "WARNING: Ignoring invalid distribution -laysound (c:\\users\\minal\\anaconda3\\lib\\site-packages)\n",
      "WARNING: Ignoring invalid distribution -laysound (c:\\users\\minal\\anaconda3\\lib\\site-packages)\n",
      "WARNING: Ignoring invalid distribution -laysound (c:\\users\\minal\\anaconda3\\lib\\site-packages)\n"
     ]
    },
    {
     "name": "stdout",
     "output_type": "stream",
     "text": [
      "Requirement already satisfied: gTTS-token in c:\\users\\minal\\anaconda3\\lib\\site-packages (1.1.4)\n",
      "Requirement already satisfied: requests in c:\\users\\minal\\anaconda3\\lib\\site-packages (from gTTS-token) (2.28.1)\n",
      "Requirement already satisfied: idna<4,>=2.5 in c:\\users\\minal\\anaconda3\\lib\\site-packages (from requests->gTTS-token) (2.10)\n",
      "Requirement already satisfied: urllib3<1.27,>=1.21.1 in c:\\users\\minal\\anaconda3\\lib\\site-packages (from requests->gTTS-token) (1.26.7)\n",
      "Requirement already satisfied: charset-normalizer<3,>=2 in c:\\users\\minal\\anaconda3\\lib\\site-packages (from requests->gTTS-token) (2.0.4)\n",
      "Requirement already satisfied: certifi>=2017.4.17 in c:\\users\\minal\\anaconda3\\lib\\site-packages (from requests->gTTS-token) (2021.10.8)\n"
     ]
    },
    {
     "name": "stderr",
     "output_type": "stream",
     "text": [
      "WARNING: Ignoring invalid distribution -laysound (c:\\users\\minal\\anaconda3\\lib\\site-packages)\n",
      "WARNING: Ignoring invalid distribution -laysound (c:\\users\\minal\\anaconda3\\lib\\site-packages)\n",
      "WARNING: Ignoring invalid distribution -laysound (c:\\users\\minal\\anaconda3\\lib\\site-packages)\n",
      "WARNING: Ignoring invalid distribution -laysound (c:\\users\\minal\\anaconda3\\lib\\site-packages)\n",
      "WARNING: Ignoring invalid distribution -laysound (c:\\users\\minal\\anaconda3\\lib\\site-packages)\n",
      "WARNING: Ignoring invalid distribution -laysound (c:\\users\\minal\\anaconda3\\lib\\site-packages)\n"
     ]
    },
    {
     "name": "stdout",
     "output_type": "stream",
     "text": [
      "Requirement already satisfied: googletrans==4.0.0rc1 in c:\\users\\minal\\anaconda3\\lib\\site-packages (4.0.0rc1)\n",
      "Requirement already satisfied: httpx==0.13.3 in c:\\users\\minal\\anaconda3\\lib\\site-packages (from googletrans==4.0.0rc1) (0.13.3)\n",
      "Requirement already satisfied: chardet==3.* in c:\\users\\minal\\anaconda3\\lib\\site-packages (from httpx==0.13.3->googletrans==4.0.0rc1) (3.0.4)\n",
      "Requirement already satisfied: rfc3986<2,>=1.3 in c:\\users\\minal\\anaconda3\\lib\\site-packages (from httpx==0.13.3->googletrans==4.0.0rc1) (1.5.0)\n",
      "Requirement already satisfied: sniffio in c:\\users\\minal\\anaconda3\\lib\\site-packages (from httpx==0.13.3->googletrans==4.0.0rc1) (1.2.0)\n",
      "Requirement already satisfied: certifi in c:\\users\\minal\\anaconda3\\lib\\site-packages (from httpx==0.13.3->googletrans==4.0.0rc1) (2021.10.8)\n",
      "Requirement already satisfied: httpcore==0.9.* in c:\\users\\minal\\anaconda3\\lib\\site-packages (from httpx==0.13.3->googletrans==4.0.0rc1) (0.9.1)\n",
      "Requirement already satisfied: idna==2.* in c:\\users\\minal\\anaconda3\\lib\\site-packages (from httpx==0.13.3->googletrans==4.0.0rc1) (2.10)\n",
      "Requirement already satisfied: hstspreload in c:\\users\\minal\\anaconda3\\lib\\site-packages (from httpx==0.13.3->googletrans==4.0.0rc1) (2022.12.1)\n",
      "Requirement already satisfied: h2==3.* in c:\\users\\minal\\anaconda3\\lib\\site-packages (from httpcore==0.9.*->httpx==0.13.3->googletrans==4.0.0rc1) (3.2.0)\n",
      "Requirement already satisfied: h11<0.10,>=0.8 in c:\\users\\minal\\anaconda3\\lib\\site-packages (from httpcore==0.9.*->httpx==0.13.3->googletrans==4.0.0rc1) (0.9.0)\n",
      "Requirement already satisfied: hyperframe<6,>=5.2.0 in c:\\users\\minal\\anaconda3\\lib\\site-packages (from h2==3.*->httpcore==0.9.*->httpx==0.13.3->googletrans==4.0.0rc1) (5.2.0)\n",
      "Requirement already satisfied: hpack<4,>=3.0 in c:\\users\\minal\\anaconda3\\lib\\site-packages (from h2==3.*->httpcore==0.9.*->httpx==0.13.3->googletrans==4.0.0rc1) (3.0.0)\n"
     ]
    },
    {
     "name": "stderr",
     "output_type": "stream",
     "text": [
      "WARNING: Ignoring invalid distribution -laysound (c:\\users\\minal\\anaconda3\\lib\\site-packages)\n",
      "WARNING: Ignoring invalid distribution -laysound (c:\\users\\minal\\anaconda3\\lib\\site-packages)\n",
      "WARNING: Ignoring invalid distribution -laysound (c:\\users\\minal\\anaconda3\\lib\\site-packages)\n",
      "WARNING: Ignoring invalid distribution -laysound (c:\\users\\minal\\anaconda3\\lib\\site-packages)\n",
      "WARNING: Ignoring invalid distribution -laysound (c:\\users\\minal\\anaconda3\\lib\\site-packages)\n",
      "WARNING: Ignoring invalid distribution -laysound (c:\\users\\minal\\anaconda3\\lib\\site-packages)\n"
     ]
    }
   ],
   "source": [
    "!pip install playsound==1.2.2\n",
    "!pip install SpeechRecognition\n",
    "!pip install gTTS\n",
    "!pip install gTTS-token\n",
    "!pip install googletrans==4.0.0rc1\n"
   ]
  },
  {
   "cell_type": "code",
   "execution_count": 2,
   "id": "e4f690db",
   "metadata": {},
   "outputs": [
    {
     "name": "stdout",
     "output_type": "stream",
     "text": [
      "listening.....\n",
      "Recognizing.....\n",
      "result2:\n",
      "{   'alternative': [   {   'confidence': 0.88687539,\n",
      "                           'transcript': 'hello good morning'}],\n",
      "    'final': True}\n",
      "The User said hello good morning\n",
      "\n",
      "Enter the language in which you\twant to convert : Ex. Hindi , English , etc.\n",
      "\n",
      "listening.....\n",
      "Recognizing.....\n",
      "result2:\n",
      "{   'alternative': [{'confidence': 0.88687539, 'transcript': 'Hindi'}],\n",
      "    'final': True}\n",
      "The User said Hindi\n",
      "\n",
      "हैलो सुप्रभात\n"
     ]
    }
   ],
   "source": [
    "# Importing necessary modules required\n",
    "from playsound import playsound\n",
    "import speech_recognition as sr\n",
    "from googletrans import Translator\n",
    "from gtts import gTTS\n",
    "import os\n",
    "flag = 0\n",
    "\n",
    "# A tuple containing all the language and\n",
    "# codes of the language will be detcted\n",
    "dic = ('afrikaans', 'af', 'albanian', 'sq',\n",
    "\t'amharic', 'am', 'arabic', 'ar',\n",
    "\t'armenian', 'hy', 'azerbaijani', 'az',\n",
    "\t'basque', 'eu', 'belarusian', 'be',\n",
    "\t'bengali', 'bn', 'bosnian', 'bs', 'bulgarian',\n",
    "\t'bg', 'catalan', 'ca', 'cebuano',\n",
    "\t'ceb', 'chichewa', 'ny', 'chinese (simplified)',\n",
    "\t'zh-cn', 'chinese (traditional)',\n",
    "\t'zh-tw', 'corsican', 'co', 'croatian', 'hr',\n",
    "\t'czech', 'cs', 'danish', 'da', 'dutch',\n",
    "\t'nl', 'english', 'en', 'esperanto', 'eo',\n",
    "\t'estonian', 'et', 'filipino', 'tl', 'finnish',\n",
    "\t'fi', 'french', 'fr', 'frisian', 'fy', 'galician',\n",
    "\t'gl', 'georgian', 'ka', 'german',\n",
    "\t'de', 'greek', 'el', 'gujarati', 'gu',\n",
    "\t'haitian creole', 'ht', 'hausa', 'ha',\n",
    "\t'hawaiian', 'haw', 'hebrew', 'he', 'hindi',\n",
    "\t'hi', 'hmong', 'hmn', 'hungarian',\n",
    "\t'hu', 'icelandic', 'is', 'igbo', 'ig', 'indonesian',\n",
    "\t'id', 'irish', 'ga', 'italian',\n",
    "\t'it', 'japanese', 'ja', 'javanese', 'jw',\n",
    "\t'kannada', 'kn', 'kazakh', 'kk', 'khmer',\n",
    "\t'km', 'korean', 'ko', 'kurdish (kurmanji)',\n",
    "\t'ku', 'kyrgyz', 'ky', 'lao', 'lo',\n",
    "\t'latin', 'la', 'latvian', 'lv', 'lithuanian',\n",
    "\t'lt', 'luxembourgish', 'lb',\n",
    "\t'macedonian', 'mk', 'malagasy', 'mg', 'malay',\n",
    "\t'ms', 'malayalam', 'ml', 'maltese',\n",
    "\t'mt', 'maori', 'mi', 'marathi', 'mr', 'mongolian',\n",
    "\t'mn', 'myanmar (burmese)', 'my',\n",
    "\t'nepali', 'ne', 'norwegian', 'no', 'odia', 'or',\n",
    "\t'pashto', 'ps', 'persian', 'fa',\n",
    "\t'polish', 'pl', 'portuguese', 'pt', 'punjabi',\n",
    "\t'pa', 'romanian', 'ro', 'russian',\n",
    "\t'ru', 'samoan', 'sm', 'scots gaelic', 'gd',\n",
    "\t'serbian', 'sr', 'sesotho', 'st',\n",
    "\t'shona', 'sn', 'sindhi', 'sd', 'sinhala', 'si',\n",
    "\t'slovak', 'sk', 'slovenian', 'sl',\n",
    "\t'somali', 'so', 'spanish', 'es', 'sundanese',\n",
    "\t'su', 'swahili', 'sw', 'swedish',\n",
    "\t'sv', 'tajik', 'tg', 'tamil', 'ta', 'telugu',\n",
    "\t'te', 'thai', 'th', 'turkish',\n",
    "\t'tr', 'ukrainian', 'uk', 'urdu', 'ur', 'uyghur',\n",
    "\t'ug', 'uzbek', 'uz',\n",
    "\t'vietnamese', 'vi', 'welsh', 'cy', 'xhosa', 'xh',\n",
    "\t'yiddish', 'yi', 'yoruba',\n",
    "\t'yo', 'zulu', 'zu')\n",
    "\n",
    "\n",
    "# Capture Voice\n",
    "# takes command through microphone\n",
    "def takecommand():\n",
    "\tr = sr.Recognizer()\n",
    "\twith sr.Microphone() as source:\n",
    "\t\tprint(\"listening.....\")\n",
    "\t\tr.pause_threshold = 1\n",
    "\t\taudio = r.listen(source)\n",
    "\n",
    "\ttry:\n",
    "\t\tprint(\"Recognizing.....\")\n",
    "\t\tquery = r.recognize_google(audio, language='en-in')\n",
    "\t\tprint(f\"The User said {query}\\n\")\n",
    "\texcept Exception as e:\n",
    "\t\tprint(\"say that again please.....\")\n",
    "\t\treturn \"None\"\n",
    "\treturn query\n",
    "\n",
    "\n",
    "# Input from user\n",
    "# Make input to lowercase\n",
    "query = takecommand()\n",
    "while (query == \"None\"):\n",
    "\tquery = takecommand()\n",
    "\n",
    "\n",
    "def destination_language():\n",
    "\tprint(\"Enter the language in which you\\\n",
    "\twant to convert : Ex. Hindi , English , etc.\")\n",
    "\tprint()\n",
    "\t\n",
    "\t# Input destination language in\n",
    "\t# which the user wants to translate\n",
    "\tto_lang = takecommand()\n",
    "\twhile (to_lang == \"None\"):\n",
    "\t\tto_lang = takecommand()\n",
    "\tto_lang = to_lang.lower()\n",
    "\treturn to_lang\n",
    "\n",
    "to_lang = destination_language()\n",
    "\n",
    "# Mapping it with the code\n",
    "while (to_lang not in dic):\n",
    "\tprint(\"Language in which you are trying\\\n",
    "\tto convert is currently not available ,\\\n",
    "\tplease input some other language\")\n",
    "\tprint()\n",
    "\tto_lang = destination_language()\n",
    "\n",
    "to_lang = dic[dic.index(to_lang)+1]\n",
    "\n",
    "\n",
    "# invoking Translator\n",
    "translator = Translator()\n",
    "\n",
    "\n",
    "# Translating from src to dest\n",
    "text_to_translate = translator.translate(query, dest=to_lang)\n",
    "\n",
    "text = text_to_translate.text\n",
    "\n",
    "# Using Google-Text-to-Speech ie, gTTS() method\n",
    "# to speak the translated text into the\n",
    "# destination language which is stored in to_lang.\n",
    "# Also, we have given 3rd argument as False because\n",
    "# by default it speaks very slowly\n",
    "speak = gTTS(text=text, lang=to_lang, slow=False)\n",
    "\n",
    "# Using save() method to save the translated\n",
    "# speech in capture_voice.mp3\n",
    "speak.save(\"captured_voice.mp3\")\n",
    "\n",
    "# Using OS module to run the translated voice.\n",
    "playsound('captured_voice.mp3')\n",
    "os.remove('captured_voice.mp3')\n",
    "\n",
    "# Printing Output\n",
    "print(text)\n"
   ]
  },
  {
   "cell_type": "code",
   "execution_count": 3,
   "id": "2cbb4fa1",
   "metadata": {},
   "outputs": [],
   "source": []
  },
  {
   "cell_type": "code",
   "execution_count": null,
   "id": "5dcf64ae",
   "metadata": {},
   "outputs": [],
   "source": []
  }
 ],
 "metadata": {
  "kernelspec": {
   "display_name": "Python 3 (ipykernel)",
   "language": "python",
   "name": "python3"
  },
  "language_info": {
   "codemirror_mode": {
    "name": "ipython",
    "version": 3
   },
   "file_extension": ".py",
   "mimetype": "text/x-python",
   "name": "python",
   "nbconvert_exporter": "python",
   "pygments_lexer": "ipython3",
   "version": "3.9.7"
  }
 },
 "nbformat": 4,
 "nbformat_minor": 5
}
